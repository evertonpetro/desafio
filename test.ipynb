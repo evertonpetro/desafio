{
 "cells": [
  {
   "cell_type": "markdown",
   "id": "f098876b-3a28-4138-88d6-e1db0895a874",
   "metadata": {},
   "source": [
    "## Testes"
   ]
  },
  {
   "cell_type": "code",
   "execution_count": null,
   "id": "e3c56ae6-80e5-4960-9a84-db3028bea552",
   "metadata": {},
   "outputs": [],
   "source": [
    "import os\n",
    "import pandas as pd\n",
    "\n",
    "path = 'output/movimento_flat'"
   ]
  },
  {
   "cell_type": "markdown",
   "id": "48eb7d56-5e43-4969-bd9d-322b7f3e0b95",
   "metadata": {},
   "source": [
    "### Verificando número de arquivos gerados"
   ]
  },
  {
   "cell_type": "code",
   "execution_count": null,
   "id": "1ead8b4b-458b-4d55-9974-2232453e96c4",
   "metadata": {},
   "outputs": [],
   "source": [
    "import os\n",
    "\n",
    "csv_files = [f for f in os.listdir(path) if f.endswith('.csv')]\n",
    "\n",
    "assert len(csv_files) == 1"
   ]
  },
  {
   "cell_type": "markdown",
   "id": "e04d11eb-bf06-41ee-8d19-455ef7e8e4db",
   "metadata": {},
   "source": [
    "### Verificando quantidade de registros"
   ]
  },
  {
   "cell_type": "code",
   "execution_count": null,
   "id": "5df7c9bd-4ece-4701-96a2-13de3ea9af93",
   "metadata": {},
   "outputs": [],
   "source": [
    "df = pd.read_csv(\"{}/{}\".format(path, csv_files[0]))\n",
    "\n",
    "assert len(df) == 3"
   ]
  }
 ],
 "metadata": {
  "kernelspec": {
   "display_name": "Python 3 (ipykernel)",
   "language": "python",
   "name": "python3"
  },
  "language_info": {
   "codemirror_mode": {
    "name": "ipython",
    "version": 3
   },
   "file_extension": ".py",
   "mimetype": "text/x-python",
   "name": "python",
   "nbconvert_exporter": "python",
   "pygments_lexer": "ipython3",
   "version": "3.9.16"
  }
 },
 "nbformat": 4,
 "nbformat_minor": 5
}
