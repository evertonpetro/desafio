{
 "cells": [
  {
   "cell_type": "markdown",
   "id": "be234a64-d942-4df1-8bc9-c551a17452ff",
   "metadata": {},
   "source": [
    "### Instalação de pacotes"
   ]
  },
  {
   "cell_type": "code",
   "execution_count": null,
   "id": "a396a243-eddf-47d4-8fe8-61216b548c99",
   "metadata": {},
   "outputs": [],
   "source": [
    "pip install -r requirements.txt"
   ]
  },
  {
   "cell_type": "markdown",
   "id": "85d20dc0-d6c8-4825-adc0-755d2be65bf0",
   "metadata": {},
   "source": [
    "### Criação de banco de dados e massa de dados"
   ]
  },
  {
   "cell_type": "code",
   "execution_count": null,
   "id": "5d6e0b2d-2dc6-407a-a84f-c3bb02b7e63f",
   "metadata": {},
   "outputs": [],
   "source": [
    "!PGPASSWORD=postgres createdb -h 127.0.0.1 -U postgres desafiodatabase\n",
    "!PGPASSWORD=postgres psql -q -h 127.0.0.1 -U postgres -d desafiodatabase -f scripts/desafio-schema.sql\n",
    "!PGPASSWORD=postgres psql -q -h 127.0.0.1 -U postgres -d desafiodatabase -f scripts/desafio-data.sql"
   ]
  },
  {
   "cell_type": "code",
   "execution_count": null,
   "id": "6f308327-34e7-4fb2-9863-31d62409ca4d",
   "metadata": {},
   "outputs": [],
   "source": [
    "from pyspark.sql import SparkSession\n",
    "import configparser\n",
    "import os"
   ]
  },
  {
   "cell_type": "markdown",
   "id": "39fc1a42-8271-420b-81bf-848c40b666e0",
   "metadata": {},
   "source": [
    "### Criação SparkSession"
   ]
  },
  {
   "cell_type": "code",
   "execution_count": null,
   "id": "b3d8dde6-114f-4844-82fe-8894c29f9766",
   "metadata": {
    "tags": []
   },
   "outputs": [],
   "source": [
    "spark = SparkSession \\\n",
    "    .builder \\\n",
    "    .appName(\"Wrangling Data\") \\\n",
    "    .config(\"spark.jars\", \"setup/postgresql-42.2.6.jar\") \\\n",
    "    .getOrCreate()"
   ]
  },
  {
   "cell_type": "markdown",
   "id": "3c1cc4cf-c8fc-4b1c-8b90-2c0758ad6349",
   "metadata": {},
   "source": [
    "### URL de Conexão com banco de dados"
   ]
  },
  {
   "cell_type": "code",
   "execution_count": null,
   "id": "db35d3b0-114b-4e65-9fca-d84684ab1893",
   "metadata": {
    "tags": []
   },
   "outputs": [],
   "source": [
    "config = configparser.ConfigParser()\n",
    "\n",
    "config.read('setup/credentials.cfg')\n",
    "\n",
    "conn_string = \"jdbc:postgresql://{}:{}/{}\" \\\n",
    "        .format(config['POSTGRESQL']['HOST'], config['POSTGRESQL']['PORT'], config['POSTGRESQL']['DB'])\n",
    "\n",
    "print(conn_string)"
   ]
  },
  {
   "cell_type": "markdown",
   "id": "94f4e2e4-b645-4601-b296-28e54bc1a383",
   "metadata": {},
   "source": [
    "### Leitura dos dados no banco"
   ]
  },
  {
   "cell_type": "code",
   "execution_count": null,
   "id": "0191d01d-1c54-4011-8479-e3a133ee080a",
   "metadata": {},
   "outputs": [],
   "source": [
    "from sql_query import *\n",
    "\n",
    "df_select = spark.read.format(\"jdbc\") \\\n",
    ".option(\"url\", conn_string)\\\n",
    "    .option(\"driver\", \"org.postgresql.Driver\")\\\n",
    "    .option(\"dbtable\", movimento_select)\\\n",
    "    .option(\"user\", config['POSTGRESQL']['USER'])\\\n",
    "    .option(\"password\", config['POSTGRESQL']['PASSWORD'])\\\n",
    "    .load()\n",
    "\n",
    "df_select.show()"
   ]
  },
  {
   "cell_type": "markdown",
   "id": "3b643598-4635-486b-9291-41f7901fbed0",
   "metadata": {},
   "source": [
    "### Gravação do arquivo"
   ]
  },
  {
   "cell_type": "code",
   "execution_count": null,
   "id": "f64e90c6-389a-4f0c-a766-0867b731d123",
   "metadata": {},
   "outputs": [],
   "source": [
    "df_select.write.mode(\"overwrite\").option(\"header\",True).csv(\"output/movimento_flat\")"
   ]
  }
 ],
 "metadata": {
  "kernelspec": {
   "display_name": "Python 3 (ipykernel)",
   "language": "python",
   "name": "python3"
  },
  "language_info": {
   "codemirror_mode": {
    "name": "ipython",
    "version": 3
   },
   "file_extension": ".py",
   "mimetype": "text/x-python",
   "name": "python",
   "nbconvert_exporter": "python",
   "pygments_lexer": "ipython3",
   "version": "3.9.16"
  }
 },
 "nbformat": 4,
 "nbformat_minor": 5
}
